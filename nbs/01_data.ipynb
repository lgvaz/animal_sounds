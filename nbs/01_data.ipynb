{
 "cells": [
  {
   "cell_type": "code",
   "execution_count": null,
   "metadata": {},
   "outputs": [],
   "source": [
    "#default_exp data"
   ]
  },
  {
   "cell_type": "code",
   "execution_count": null,
   "metadata": {},
   "outputs": [],
   "source": [
    "#export\n",
    "import librosa, torchaudio\n",
    "from fastai2.vision.all import *\n",
    "from animal_sounds import *"
   ]
  },
  {
   "cell_type": "code",
   "execution_count": null,
   "metadata": {},
   "outputs": [],
   "source": [
    "#export\n",
    "def sounds_source():\n",
    "  return untar_data('https://storage.googleapis.com/ml-animal-sounds-datasets/macaques_24414Hz.zip')"
   ]
  },
  {
   "cell_type": "code",
   "execution_count": null,
   "metadata": {},
   "outputs": [],
   "source": [
    "#export\n",
    "def get_spec(fn, target_rate=24414, num_samples=18310):\n",
    "  x, rate = torchaudio.load_wav(fn)\n",
    "  if rate != target_rate: \n",
    "    x = torchaudio.transforms.Resample(orig_freq=rate, new_freq=24414, resampling_method='sinc_interpolation')(x)\n",
    "  x = (x[0] / 32767).numpy()\n",
    "  x = librosa.util.fix_length(x, num_samples)\n",
    "  spec = librosa.feature.melspectrogram(x, sr=rate, n_fft=1024, hop_length=140)\n",
    "  spec = librosa.power_to_db(spec, ref=np.max)\n",
    "  spec = scale_minmax(spec, 0, 255).astype(np.uint8)\n",
    "  spec = np.flip(spec, axis=0) # put low frequencies at the bottom in image\n",
    "  spec = spec\n",
    "  return spec"
   ]
  },
  {
   "cell_type": "code",
   "execution_count": null,
   "metadata": {},
   "outputs": [
    {
     "data": {
      "image/png": "[encoded data removed]",
      "text/plain": [
       "PILImageBW mode=L size=131x128"
      ]
     },
     "execution_count": null,
     "metadata": {},
     "output_type": "execute_result"
    }
   ],
   "source": [
    "source = sounds_source()\n",
    "fns = get_files(source)\n",
    "PILImageBW.create(get_spec(fns[1458]))"
   ]
  },
  {
   "cell_type": "code",
   "execution_count": null,
   "metadata": {},
   "outputs": [],
   "source": [
    "#export\n",
    "def get_duration(fn):\n",
    "  x, rate = torchaudio.load_wav(fn)\n",
    "  return len(x[0])/rate"
   ]
  },
  {
   "cell_type": "code",
   "execution_count": null,
   "metadata": {},
   "outputs": [
    {
     "data": {
      "text/plain": [
       "0.35000409601048577"
      ]
     },
     "execution_count": null,
     "metadata": {},
     "output_type": "execute_result"
    }
   ],
   "source": [
    "get_duration(fns[0])"
   ]
  },
  {
   "cell_type": "markdown",
   "metadata": {},
   "source": [
    "## Export -"
   ]
  },
  {
   "cell_type": "code",
   "execution_count": null,
   "metadata": {},
   "outputs": [
    {
     "name": "stdout",
     "output_type": "stream",
     "text": [
      "Converted 00_core.ipynb.\n",
      "Converted 01_data.ipynb.\n",
      "Converted Untitled.ipynb.\n",
      "Converted index.ipynb.\n",
      "Converted train_duration.ipynb.\n"
     ]
    }
   ],
   "source": [
    "#hide\n",
    "from nbdev.export import *\n",
    "notebook2script()"
   ]
  }
 ],
 "metadata": {
  "kernelspec": {
   "display_name": "Python 3",
   "language": "python",
   "name": "python3"
  }
 },
 "nbformat": 4,
 "nbformat_minor": 4
}
